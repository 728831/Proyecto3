{
 "cells": [
  {
   "cell_type": "markdown",
   "id": "23dc002c",
   "metadata": {},
   "source": [
    "## Modelo del rendimiento de una cuenta de ahorro\n",
    "\n",
    "    Luis Fernando Ramírez Torres    \n",
    "    Edgar Omar Ventura Lopéz        \n",
    "    "
   ]
  },
  {
   "cell_type": "markdown",
   "id": "5a9ba2c7",
   "metadata": {},
   "source": [
    "## Introducción\n",
    "\n",
    "El modelo del rendimiento de una cuenta de ahorro es una herramienta que se utiliza para calcular el crecimiento y los rendimientos esperados de una cuenta de ahorro. Este modelo se basa en varios factores, como la tasa de interés, el saldo inicial, los depósitos periódicos y la duración de la inversión.\n",
    "\n",
    "En general, los bancos y otras instituciones financieras ofrecen cuentas de ahorro como una opción para que los clientes puedan ahorrar su dinero y ganar intereses sobre sus ahorros. El modelo del rendimiento de una cuenta de ahorro permite a los clientes comprender mejor cómo sus depósitos y la tasa de interés afectarán sus ahorros a lo largo del tiempo.\n",
    "\n",
    "El modelo del rendimiento de una cuenta de ahorro también puede ser utilizado por los inversores para comparar diferentes opciones de cuentas de ahorro y determinar cuál es la mejor opción para sus objetivos de ahorro a largo plazo. Al comprender cómo funciona el modelo del rendimiento de una cuenta de ahorro, los inversores pueden tomar decisiones informadas sobre dónde invertir su dinero y cuánto pueden esperar ganar en intereses en el futuro.\n",
    "\n",
    "En resumen, el modelo del rendimiento de una cuenta de ahorro es una herramienta útil para entender cómo funcionan las cuentas de ahorro, cómo los depósitos y la tasa de interés afectan el crecimiento de los ahorros y cómo comparar diferentes opciones de cuentas de ahorro para tomar decisiones informadas de inversión.\n"
   ]
  },
  {
   "attachments": {},
   "cell_type": "markdown",
   "id": "791e248a",
   "metadata": {},
   "source": [
    "## Objetivos\n",
    "\n",
    "Objetivo general:\n",
    "\n",
    "    Desarrollar un modelo matemático que permita predecir el saldo de una cuenta de ahorro a lo largo del tiempo, considerando una inversión inicial y aportes adicionales mensuales.\n",
    "\n",
    "Objetivos específicos:\n",
    "\n",
    "    Investigar sobre los conceptos fundamentales de las cuentas de ahorro y los métodos para calcular sus rendimientos.\n",
    "    \n",
    "    Simular una inversión en el banco INBURSA, que tiene una tasa anualizada del 11,40% en cuentas de ahorros.\n",
    "\n",
    "    Seleccionar una ecuación diferencial que describa adecuadamente el comportamiento de una cuenta de ahorro con una inversión inicial y aportes adicionales mensuales.\n",
    "    \n",
    "    Plantear las condiciones iniciales y los supuestos necesarios para resolver la ecuación diferencial y obtener la solución analítica.\n",
    "    \n",
    "    Verificar la solución analítica mediante métodos numéricos, como la simulación en un software de cálculo.\n",
    "    \n",
    "    Analizar los resultados obtenidos y hacer interpretaciones relevantes para los usuarios de la cuenta de ahorro."
   ]
  },
  {
   "cell_type": "markdown",
   "id": "ecd14202",
   "metadata": {},
   "source": [
    "La ecuación representa el crecimiento del saldo de la cuenta de ahorro en términos de la tasa de interés y los flujos de efectivo. La solución de esta ecuación diferencial nos dará el saldo de la cuenta de ahorro en cualquier momento del tiempo."
   ]
  },
  {
   "cell_type": "markdown",
   "id": "b27349b8",
   "metadata": {},
   "source": [
    "## Modelo que representa el problema:\n",
    "\n",
    "La ecuación diferencial que modela el crecimiento del saldo de una cuenta de ahorro con una inversión inicial y aportes adicionales mensuales es la siguiente:\n",
    "\n",
    "$$\\frac{dS}{dt} = rS + A$$\n",
    "\n",
    "donde:\n",
    "\n",
    "    S es el saldo de la cuenta de ahorro en un momento t.\n",
    "    r es la tasa de interés mensual.\n",
    "    A es la cantidad de ahorro adicional realizada cada mes.\n",
    "\n",
    "Esta ecuación describe el cambio en el saldo de la cuenta de ahorro a lo largo del tiempo, en función del rendimiento generado por los intereses y los aportes adicionales realizados.\n",
    "\n",
    "    Deducción del modelo:\n",
    "\n",
    "La ecuación diferencial anterior se deduce a partir de la definición de interés compuesto, que establece que el rendimiento de una inversión se calcula a partir de la capitalización periódica de los intereses generados. En el caso de una cuenta de ahorro, esto significa que los intereses generados se suman al saldo de la cuenta al final del mes, y a partir de este nuevo saldo se calcula el interés del mes siguiente.\n",
    "\n",
    "Por lo tanto, el cambio en el saldo de la cuenta de ahorro está determinado por dos factores: el rendimiento generado por los intereses y la cantidad de ahorro adicional realizada cada mes. Estos factores se combinan en la ecuación diferencial dS/dt = r*S + A, que describe el crecimiento del saldo de la cuenta de ahorro a lo largo del tiempo.\n",
    "\n",
    "### Situación que representa el modelo y limitaciones fundamentales\n",
    "\n",
    "El modelo representa la evolución del saldo de una cuenta de ahorro con una inversión inicial y aportes adicionales mensuales, en un contexto en el que la tasa de interés mensual se mantiene constante durante un período de tiempo determinado (5 años, en el caso que nos ocupa). Las limitaciones fundamentales del modelo son que no considera posibles fluctuaciones en la tasa de interés, retiros de fondos durante el período de tiempo considerado, ni otros factores que pueden influir en el comportamiento del saldo de la cuenta de ahorro, como comisiones bancarias, impuestos, inflación, entre otros.\n",
    "\n",
    "    Significado y valor de los parámetros:\n",
    "    S es el saldo de la cuenta de ahorro en un momento t.\n",
    "    r es la tasa de interés mensual.\n",
    "    A es la cantidad de ahorro adicional realizada cada mes.\n",
    " "
   ]
  },
  {
   "cell_type": "markdown",
   "id": "40850207",
   "metadata": {},
   "source": [
    "## Simulaciones"
   ]
  },
  {
   "cell_type": "markdown",
   "id": "f82a95e2",
   "metadata": {},
   "source": [
    "Realizaremos una simulación de una inversion inicial de 100,000 pesos a una tasa de 11.40% anual, a 5 años, sin retiros en el lapso de tiempo. Y se invierten 10,000 pesos más cada mes. La tasa de interes no cambia en esos 5 años. Los intereses son reinvertidos a final de cada año. "
   ]
  },
  {
   "cell_type": "code",
   "execution_count": 1,
   "id": "d145b9d5",
   "metadata": {},
   "outputs": [
    {
     "data": {
      "image/png": "[encoded data removed]",
      "text/plain": [
       "<Figure size 432x288 with 1 Axes>"
      ]
     },
     "metadata": {
      "needs_background": "light"
     },
     "output_type": "display_data"
    }
   ],
   "source": [
    "import matplotlib.pyplot as plt\n",
    "\n",
    "inversion = 100000\n",
    "deposito_mensual = 10000\n",
    "tasa = 0.1140 / 12 \n",
    "tiempo = 60\n",
    "\n",
    "meses = list(range(tiempo + 1))\n",
    "valores_cuenta = [inversion]\n",
    "\n",
    "for mes in range(1, tiempo + 1):\n",
    "    intereses = valores_cuenta[mes - 1] * tasa\n",
    "    deposito = deposito_mensual if mes % 12 != 0 else deposito_mensual + intereses\n",
    "    \n",
    "    valor_final = valores_cuenta[mes - 1] + intereses + deposito\n",
    "    \n",
    "    valores_cuenta.append(valor_final)\n",
    "\n",
    "plt.plot(meses, valores_cuenta)\n",
    "plt.title(\"Valor de la cuenta de ahorro\")\n",
    "plt.xlabel(\"Mes\")\n",
    "plt.ylabel(\"Valor (pesos)\")\n",
    "plt.show()\n"
   ]
  },
  {
   "cell_type": "code",
   "execution_count": 2,
   "id": "b2845408",
   "metadata": {},
   "outputs": [
    {
     "name": "stdout",
     "output_type": "stream",
     "text": [
      "El resultado al finalizar los 5 años es de $ 1012622.0760514014 pesos\n"
     ]
    }
   ],
   "source": [
    "print(\"El resultado al finalizar los 5 años es de $\",valor_final,\"pesos\")\n"
   ]
  },
  {
   "cell_type": "markdown",
   "id": "f0e36743",
   "metadata": {},
   "source": [
    "## Para saber cuanto habrá disponible en cierto mes"
   ]
  },
  {
   "cell_type": "code",
   "execution_count": 4,
   "id": "19eb0ea8",
   "metadata": {},
   "outputs": [
    {
     "name": "stdout",
     "output_type": "stream",
     "text": [
      "Ingrese el número de mes que desea consultar (1-60): 30\n",
      "El capital disponible en el mes 30 es: 469962.88489339396\n"
     ]
    }
   ],
   "source": [
    "for mes in range(1, tiempo + 1):\n",
    "    intereses = valores_cuenta[mes - 1] * tasa\n",
    "    deposito = deposito_mensual if mes % 12 != 0 else deposito_mensual + intereses\n",
    "    \n",
    "    valor_final_mes = valores_cuenta[mes - 1] + intereses + deposito\n",
    "    \n",
    "    valores_cuenta.append(valor_final_mes)\n",
    "\n",
    "mes_deseado = int(input(\"Ingrese el número de mes que desea consultar (1-60): \"))\n",
    "if mes_deseado < 1 or mes_deseado > tiempo:\n",
    "    print(\"El número de mes ingresado es inválido.\")\n",
    "else:\n",
    "    capital = valores_cuenta[mes_deseado - 1]\n",
    "    print(f\"El capital disponible en el mes {mes_deseado} es: {capital}\")\n"
   ]
  },
  {
   "cell_type": "markdown",
   "id": "00211a4c",
   "metadata": {},
   "source": [
    "## Extras"
   ]
  },
  {
   "cell_type": "markdown",
   "id": "f0962697",
   "metadata": {},
   "source": [
    "### El capital disponible al final de cada año"
   ]
  },
  {
   "cell_type": "code",
   "execution_count": 5,
   "id": "e5f24ed8",
   "metadata": {
    "scrolled": false
   },
   "outputs": [
    {
     "name": "stdout",
     "output_type": "stream",
     "text": [
      "Capital al final del año 1: 240637.98781554957\n",
      "Capital al final del año 2: 399656.02341211657\n",
      "Capital al final del año 3: 579456.2042718944\n",
      "Capital al final del año 4: 782754.5591781652\n",
      "Capital al final del año 5: 1012622.0760514014\n"
     ]
    }
   ],
   "source": [
    "for mes in range(1, tiempo + 1):\n",
    "    intereses = valores_cuenta[mes - 1] * tasa\n",
    "    deposito = deposito_mensual if mes % 12 != 0 else deposito_mensual + intereses\n",
    "    \n",
    "    valor_final = valores_cuenta[mes - 1] + intereses + deposito\n",
    "    \n",
    "    valores_cuenta.append(valor_final)\n",
    "\n",
    "for year in range(1, 6):\n",
    "    mes_final = year * 12\n",
    "    capital_final = valores_cuenta[mes_final]\n",
    "    print(f\"Capital al final del año {year}: {capital_final}\")\n"
   ]
  },
  {
   "cell_type": "markdown",
   "id": "4e717d30",
   "metadata": {},
   "source": [
    "### Intereses ganados al final de cada año"
   ]
  },
  {
   "cell_type": "code",
   "execution_count": 6,
   "id": "aee5b9c9",
   "metadata": {
    "scrolled": true
   },
   "outputs": [
    {
     "name": "stdout",
     "output_type": "stream",
     "text": [
      "Intereses ganados en el año 1: 20637.987815549568\n",
      "Intereses ganados en el año 2: 39018.035596567\n",
      "Intereses ganados en el año 3: 59800.18085977784\n",
      "Intereses ganados en el año 4: 83298.35490627075\n",
      "Intereses ganados en el año 5: 109867.51687323628\n"
     ]
    }
   ],
   "source": [
    "for mes in range(1, tiempo + 1):\n",
    "    intereses = valores_cuenta[mes - 1] * tasa\n",
    "    deposito = deposito_mensual if mes % 12 != 0 else deposito_mensual + intereses\n",
    "    \n",
    "    valor_final = valores_cuenta[mes - 1] + intereses + deposito\n",
    "    \n",
    "    valores_cuenta.append(valor_final)\n",
    "\n",
    "intereses_por_año = []\n",
    "\n",
    "for year in range(1, 6):\n",
    "    mes_inicial = (year - 1) * 12\n",
    "    mes_final = year * 12\n",
    "    intereses = valores_cuenta[mes_final] - valores_cuenta[mes_inicial] - deposito_mensual * 12\n",
    "    intereses_por_año.append(intereses)\n",
    "\n",
    "for year, intereses in enumerate(intereses_por_año):\n",
    "    print(f\"Intereses ganados en el año {year + 1}: {intereses}\")\n"
   ]
  },
  {
   "cell_type": "markdown",
   "id": "46480b84",
   "metadata": {},
   "source": [
    "## Para saber cuanto tiempo tenemos que seguir ahorrando para tener cierta cantidad de dinero"
   ]
  },
  {
   "cell_type": "code",
   "execution_count": 8,
   "id": "6ea42831",
   "metadata": {},
   "outputs": [
    {
     "name": "stdout",
     "output_type": "stream",
     "text": [
      "Introduce la cantidad de dinero que quieres ahorrar: 2000000\n",
      "Para alcanzar un ahorro de 2000000.0 pesos, necesitas ahorrar durante 176 meses.\n"
     ]
    }
   ],
   "source": [
    "saldo_inicial = 100000\n",
    "deposito_mensual = 10000\n",
    "\n",
    "objetivo_ahorro = float(input(\"Introduce la cantidad de dinero que quieres ahorrar: \"))\n",
    "\n",
    "saldo_actual = inversion\n",
    "meses = 0\n",
    "while saldo_actual < objetivo_ahorro:\n",
    "    saldo_actual += saldo_actual * tasa / 12 + deposito_mensual\n",
    "    meses += 1\n",
    "\n",
    "print(f\"Para alcanzar un ahorro de {objetivo_ahorro} pesos, necesitas ahorrar durante {meses} meses.\")\n"
   ]
  },
  {
   "cell_type": "markdown",
   "id": "2c67188a",
   "metadata": {},
   "source": [
    "## Conclusiones"
   ]
  },
  {
   "cell_type": "markdown",
   "id": "d5ace598",
   "metadata": {},
   "source": [
    "En este proyecto se modeló el rendimiento de una cuenta de ahorro en base a una inversión inicial, un depósito mensual y una tasa de interés fija. Se utilizó la ecuación de interés compuesto para obtener una solución numérica del modelo, la cual permitió simular el comportamiento de la cuenta de ahorro durante un periodo de tiempo determinado.\n",
    "\n",
    "Se encontró que con una inversión inicial de 100,000 pesos y un depósito mensual de 10,000 pesos, se puede obtener un total de capital de aproximadamente 1,000,000 pesos después de cinco años, si se mantiene una tasa de interés del 11.40% anual y se reinvierten los intereses al final de cada año. También se observó que el incremento del capital se debe principalmente a los intereses compuestos generados por la inversión inicial y los depósitos mensuales, los cuales van acumulándose y generando más intereses con el tiempo.\n",
    "\n",
    "En conclusión, este proyecto demuestra la importancia del interés compuesto como una herramienta poderosa para el crecimiento del ahorro a largo plazo. Además, se muestra cómo la simulación numérica puede ser utilizada para predecir el comportamiento de una cuenta de ahorro en diferentes escenarios y para tomar decisiones informadas sobre la inversión.\n"
   ]
  },
  {
   "cell_type": "markdown",
   "id": "55296f4a",
   "metadata": {},
   "source": [
    "## Referencias"
   ]
  },
  {
   "cell_type": "markdown",
   "id": "c230aac0",
   "metadata": {},
   "source": [
    "- ¿Qué es el interés compuesto y cómo se calcula? (n.d.). Perspectivas De PNC. https://www.pnc.com/insights/es/personal-finance/save/what-is-compound-interest.html\n",
    "- Morris, C. (2023, April 24). Interés Compuesto | Qué Es, Fórmula Y Ejemplos. Camino Financial. https://www.caminofinancial.com/es/interes-compuesto/\n",
    "- Porter, K. (2022). Cómo funciona el interés compuesto en una cuenta de ahorros. Intuit Credit Karma. https://www.creditkarma.com/es/dinero/i/cuentas-de-ahorro-de-interes-compuesto\n",
    "- REVISTA DE METODOS CUANTITATIVOS PARA LA ECONOMIA Y LA EMPRESA (16.a ed.). (2013)\n",
    "- CUENTA INBURSA CT. (2023, mayo). https://www.inbursa.com. Recuperado 7 de mayo de 2023, de https://www.inbursa.com/Portal/?page=Document/doc_view_section.asp&id_document=916&id_category=31"
   ]
  },
  {
   "cell_type": "code",
   "execution_count": null,
   "id": "ea28141a",
   "metadata": {},
   "outputs": [],
   "source": []
  }
 ],
 "metadata": {
  "kernelspec": {
   "display_name": "Python 3",
   "language": "python",
   "name": "python3"
  },
  "language_info": {
   "codemirror_mode": {
    "name": "ipython",
    "version": 3
   },
   "file_extension": ".py",
   "mimetype": "text/x-python",
   "name": "python",
   "nbconvert_exporter": "python",
   "pygments_lexer": "ipython3",
   "version": "3.8.8"
  }
 },
 "nbformat": 4,
 "nbformat_minor": 5
}
